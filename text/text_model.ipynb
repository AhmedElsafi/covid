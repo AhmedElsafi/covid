{
  "nbformat": 4,
  "nbformat_minor": 0,
  "metadata": {
    "colab": {
      "name": "text_model.ipynb",
      "provenance": [],
      "collapsed_sections": []
    },
    "kernelspec": {
      "name": "python3",
      "display_name": "Python 3"
    }
  },
  "cells": [
    {
      "cell_type": "code",
      "metadata": {
        "id": "tGDXmrWmYSkr",
        "colab_type": "code",
        "colab": {}
      },
      "source": [
        "import numpy as np\n",
        "import pandas as pd\n",
        "\n",
        "from sklearn.preprocessing import LabelEncoder\n",
        "from sklearn.model_selection import train_test_split\n",
        "\n",
        "! wget --quiet https://github.com/virufy/covid/tree/master/data/labels.csv"
      ],
      "execution_count": 0,
      "outputs": []
    },
    {
      "cell_type": "markdown",
      "metadata": {
        "id": "ulDHQBpnpdOx",
        "colab_type": "text"
      },
      "source": [
        "# Explore the data"
      ]
    },
    {
      "cell_type": "code",
      "metadata": {
        "id": "HLRjFii8ZEwk",
        "colab_type": "code",
        "colab": {}
      },
      "source": [
        "labels_df = pd.read_csv('labels.csv')\n",
        "labels_df = labels_df.drop(columns=[\"date\", \"cough_filename\"])"
      ],
      "execution_count": 0,
      "outputs": []
    },
    {
      "cell_type": "code",
      "metadata": {
        "id": "oZVd4g3Q69bX",
        "colab_type": "code",
        "outputId": "a305285a-6ca7-4623-dff4-4ff34e4c047c",
        "colab": {
          "base_uri": "https://localhost:8080/",
          "height": 394
        }
      },
      "source": [
        "labels_df.head(10)"
      ],
      "execution_count": 3,
      "outputs": [
        {
          "output_type": "execute_result",
          "data": {
            "text/html": [
              "<div>\n",
              "<style scoped>\n",
              "    .dataframe tbody tr th:only-of-type {\n",
              "        vertical-align: middle;\n",
              "    }\n",
              "\n",
              "    .dataframe tbody tr th {\n",
              "        vertical-align: top;\n",
              "    }\n",
              "\n",
              "    .dataframe thead th {\n",
              "        text-align: right;\n",
              "    }\n",
              "</style>\n",
              "<table border=\"1\" class=\"dataframe\">\n",
              "  <thead>\n",
              "    <tr style=\"text-align: right;\">\n",
              "      <th></th>\n",
              "      <th>corona_test</th>\n",
              "      <th>age</th>\n",
              "      <th>gender</th>\n",
              "      <th>medical_history</th>\n",
              "      <th>smoker</th>\n",
              "      <th>patient_reported_symptoms</th>\n",
              "    </tr>\n",
              "  </thead>\n",
              "  <tbody>\n",
              "    <tr>\n",
              "      <th>0</th>\n",
              "      <td>negative</td>\n",
              "      <td>53</td>\n",
              "      <td>male</td>\n",
              "      <td>none,</td>\n",
              "      <td>yes</td>\n",
              "      <td>none,</td>\n",
              "    </tr>\n",
              "    <tr>\n",
              "      <th>1</th>\n",
              "      <td>positive</td>\n",
              "      <td>50</td>\n",
              "      <td>male</td>\n",
              "      <td>Congestive heart failure,</td>\n",
              "      <td>no</td>\n",
              "      <td>Shortness of breath,</td>\n",
              "    </tr>\n",
              "    <tr>\n",
              "      <th>2</th>\n",
              "      <td>negative</td>\n",
              "      <td>43</td>\n",
              "      <td>male</td>\n",
              "      <td>none,</td>\n",
              "      <td>no</td>\n",
              "      <td>Sore throat,</td>\n",
              "    </tr>\n",
              "    <tr>\n",
              "      <th>3</th>\n",
              "      <td>positive</td>\n",
              "      <td>65</td>\n",
              "      <td>male</td>\n",
              "      <td>Asthma or chronic lung disease,</td>\n",
              "      <td>no</td>\n",
              "      <td>Shortness of breath,New or worsening cough,</td>\n",
              "    </tr>\n",
              "    <tr>\n",
              "      <th>4</th>\n",
              "      <td>positive</td>\n",
              "      <td>40</td>\n",
              "      <td>female</td>\n",
              "      <td>none,</td>\n",
              "      <td>no</td>\n",
              "      <td>Sore throat,Loss of taste,Loss of smell,</td>\n",
              "    </tr>\n",
              "    <tr>\n",
              "      <th>5</th>\n",
              "      <td>negative</td>\n",
              "      <td>66</td>\n",
              "      <td>female</td>\n",
              "      <td>Diabetes with complications,</td>\n",
              "      <td>no</td>\n",
              "      <td>none,</td>\n",
              "    </tr>\n",
              "    <tr>\n",
              "      <th>6</th>\n",
              "      <td>negative</td>\n",
              "      <td>20</td>\n",
              "      <td>female</td>\n",
              "      <td>none,</td>\n",
              "      <td>no</td>\n",
              "      <td>none,</td>\n",
              "    </tr>\n",
              "    <tr>\n",
              "      <th>7</th>\n",
              "      <td>negative</td>\n",
              "      <td>17</td>\n",
              "      <td>female</td>\n",
              "      <td>none,</td>\n",
              "      <td>no</td>\n",
              "      <td>Shortness of breath,Sore throat,Body aches,</td>\n",
              "    </tr>\n",
              "    <tr>\n",
              "      <th>8</th>\n",
              "      <td>negative</td>\n",
              "      <td>47</td>\n",
              "      <td>male</td>\n",
              "      <td>none,</td>\n",
              "      <td>no</td>\n",
              "      <td>New or worsening cough,</td>\n",
              "    </tr>\n",
              "    <tr>\n",
              "      <th>9</th>\n",
              "      <td>positive</td>\n",
              "      <td>53</td>\n",
              "      <td>male</td>\n",
              "      <td>none,</td>\n",
              "      <td>no</td>\n",
              "      <td>Fever, chills, or sweating,Shortness of breath...</td>\n",
              "    </tr>\n",
              "  </tbody>\n",
              "</table>\n",
              "</div>"
            ],
            "text/plain": [
              "  corona_test  age  ... smoker                          patient_reported_symptoms\n",
              "0    negative   53  ...    yes                                              none,\n",
              "1    positive   50  ...     no                               Shortness of breath,\n",
              "2    negative   43  ...     no                                       Sore throat,\n",
              "3    positive   65  ...     no        Shortness of breath,New or worsening cough,\n",
              "4    positive   40  ...     no           Sore throat,Loss of taste,Loss of smell,\n",
              "5    negative   66  ...     no                                              none,\n",
              "6    negative   20  ...     no                                              none,\n",
              "7    negative   17  ...     no        Shortness of breath,Sore throat,Body aches,\n",
              "8    negative   47  ...     no                            New or worsening cough,\n",
              "9    positive   53  ...     no  Fever, chills, or sweating,Shortness of breath...\n",
              "\n",
              "[10 rows x 6 columns]"
            ]
          },
          "metadata": {
            "tags": []
          },
          "execution_count": 3
        }
      ]
    },
    {
      "cell_type": "code",
      "metadata": {
        "id": "xRC4xo-IX1g4",
        "colab_type": "code",
        "outputId": "6d2a4aa1-e005-4eea-c698-28f7b9962480",
        "colab": {
          "base_uri": "https://localhost:8080/",
          "height": 172
        }
      },
      "source": [
        "labels_df.dtypes"
      ],
      "execution_count": 4,
      "outputs": [
        {
          "output_type": "execute_result",
          "data": {
            "text/plain": [
              "corona_test                  object\n",
              "age                           int64\n",
              "gender                       object\n",
              "medical_history              object\n",
              "smoker                       object\n",
              "patient_reported_symptoms    object\n",
              "dtype: object"
            ]
          },
          "metadata": {
            "tags": []
          },
          "execution_count": 4
        }
      ]
    },
    {
      "cell_type": "code",
      "metadata": {
        "id": "No_4Io6cqAdU",
        "colab_type": "code",
        "outputId": "b4bc99bb-20d5-44d2-9b7c-4af3682f6754",
        "colab": {
          "base_uri": "https://localhost:8080/",
          "height": 172
        }
      },
      "source": [
        "labels_df.isna().sum()"
      ],
      "execution_count": 5,
      "outputs": [
        {
          "output_type": "execute_result",
          "data": {
            "text/plain": [
              "corona_test                  0\n",
              "age                          0\n",
              "gender                       0\n",
              "medical_history              0\n",
              "smoker                       0\n",
              "patient_reported_symptoms    0\n",
              "dtype: int64"
            ]
          },
          "metadata": {
            "tags": []
          },
          "execution_count": 5
        }
      ]
    },
    {
      "cell_type": "code",
      "metadata": {
        "id": "Zc9s5Q4NrjYK",
        "colab_type": "code",
        "outputId": "19261275-5ce1-4ea2-a439-4b32755e686a",
        "colab": {
          "base_uri": "https://localhost:8080/",
          "height": 62
        }
      },
      "source": [
        "corona_positive = len(labels_df[labels_df['corona_test'] == 'negative'])\n",
        "corona_negative = len(labels_df[labels_df['corona_test'] == 'positive'])\n",
        "print('Negative:', corona_negative)\n",
        "print('Positive:', corona_positive)"
      ],
      "execution_count": 6,
      "outputs": [
        {
          "output_type": "stream",
          "text": [
            "Negative: 7\n",
            "Positive: 9\n"
          ],
          "name": "stdout"
        }
      ]
    },
    {
      "cell_type": "code",
      "metadata": {
        "id": "JoE65mCSdFYo",
        "colab_type": "code",
        "outputId": "b637b741-38fa-4ec1-c1bc-c07d0ba84f40",
        "colab": {
          "base_uri": "https://localhost:8080/",
          "height": 84
        }
      },
      "source": [
        "labels_df['medical_history'].unique()"
      ],
      "execution_count": 7,
      "outputs": [
        {
          "output_type": "execute_result",
          "data": {
            "text/plain": [
              "array(['none,', 'Congestive heart failure,',\n",
              "       'Asthma or chronic lung disease,', 'Diabetes with complications,'],\n",
              "      dtype=object)"
            ]
          },
          "metadata": {
            "tags": []
          },
          "execution_count": 7
        }
      ]
    },
    {
      "cell_type": "code",
      "metadata": {
        "id": "iMmEsVNSfDFh",
        "colab_type": "code",
        "outputId": "812dbcea-7e11-44f7-d8a7-bbb60798bb6c",
        "colab": {
          "base_uri": "https://localhost:8080/",
          "height": 194
        }
      },
      "source": [
        "labels_df['patient_reported_symptoms'].unique()"
      ],
      "execution_count": 8,
      "outputs": [
        {
          "output_type": "execute_result",
          "data": {
            "text/plain": [
              "array(['none,', 'Shortness of breath,', 'Sore throat,',\n",
              "       'Shortness of breath,New or worsening cough,',\n",
              "       'Sore throat,Loss of taste,Loss of smell,',\n",
              "       'Shortness of breath,Sore throat,Body aches,',\n",
              "       'New or worsening cough,',\n",
              "       'Fever, chills, or sweating,Shortness of breath,New or worsening cough,Sore throat,Loss of taste,Loss of smell,',\n",
              "       'Fever, chills, or sweating,New or worsening cough,Sore throat,'],\n",
              "      dtype=object)"
            ]
          },
          "metadata": {
            "tags": []
          },
          "execution_count": 8
        }
      ]
    },
    {
      "cell_type": "markdown",
      "metadata": {
        "id": "wfBdCwmFqPi1",
        "colab_type": "text"
      },
      "source": [
        "# Text Model"
      ]
    },
    {
      "cell_type": "code",
      "metadata": {
        "id": "xiOCJo1JdcI6",
        "colab_type": "code",
        "colab": {}
      },
      "source": [
        "# The values of the medical history feature\n",
        "med_hisotry = ['none', 'Congestive heart failure',\n",
        "       'Asthma or chronic lung disease', 'Diabetes with complications']\n",
        "# The values of the symptom feature\n",
        "symptoms = ['Fever, chills, or sweating', 'Shortness of breath', 'New or worsening cough',\n",
        "       'Sore throat', 'Body aches', 'Loss of taste', 'Loss of smell', 'none']"
      ],
      "execution_count": 0,
      "outputs": []
    },
    {
      "cell_type": "code",
      "metadata": {
        "id": "1b7gLHGVqRoZ",
        "colab_type": "code",
        "colab": {}
      },
      "source": [
        "class Text:\n",
        "    def __init__(self, df):\n",
        "        \"\"\"\n",
        "        @param df  Format \"date, corona_test, age, gender, medical_history, \n",
        "        smoker, patient_reported_symptoms\"\n",
        "        \"\"\"\n",
        "        self.df_features = df.drop(columns = [\"corona_test\"])\n",
        "        self.targets = df[\"corona_test\"] \n",
        "\n",
        "    def preprocess(self):\n",
        "        \"\"\"\n",
        "        @return labels_df in one-hot-encoded format\n",
        "        \"\"\"\n",
        "        # Change the value type of targets to int\n",
        "        self.targets.replace(to_replace =\"negative\", value =0, inplace=True)\n",
        "        self.targets.replace(to_replace =\"positive\", value =1, inplace=True) \n",
        "        # Encode the information of medical history\n",
        "        for m in med_hisotry:\n",
        "            self.df_features[m] = self.df_features.medical_history.str.contains(m).astype(int)\n",
        "        self.df_features.rename(columns={'none':'no_med_history'}, inplace=True)\n",
        "        # Encode the information of symptoms\n",
        "        for s in symptoms:\n",
        "            self.df_features[s] = self.df_features.patient_reported_symptoms.str.contains(s).astype(int)\n",
        "        self.df_features.rename(columns={'none':'no_symptoms'}, inplace=True)\n",
        "        self.df_features = self.df_features.drop(columns = [\"medical_history\", \"patient_reported_symptoms\"])\n",
        "        # Encode the gender and smoker information\n",
        "        self.df_features['gender'] = LabelEncoder().fit_transform(self.df_features['gender'])\n",
        "        self.df_features['smoker'] = LabelEncoder().fit_transform(self.df_features['smoker'])\n",
        "   \n",
        "    def split_train_test(self, size=0.25, rand=22, shuffle=True):\n",
        "        \"\"\"\n",
        "        @return the X_train, X_test, y_train, y_test values\n",
        "        \"\"\"\n",
        "        return train_test_split(self.df_features, self.targets, test_size=size, random_state=rand, shuffle=shuffle)"
      ],
      "execution_count": 0,
      "outputs": []
    },
    {
      "cell_type": "code",
      "metadata": {
        "id": "axcaDu2pucI0",
        "colab_type": "code",
        "colab": {}
      },
      "source": [
        "model = Text(labels_df.copy())\n",
        "model.preprocess()\n",
        "X_train, X_test, y_train, y_test = model.split_train_test()"
      ],
      "execution_count": 0,
      "outputs": []
    }
  ]
}
