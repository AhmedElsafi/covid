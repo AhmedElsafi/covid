{
  "nbformat": 4,
  "nbformat_minor": 0,
  "metadata": {
    "colab": {
      "name": "text_model_public.ipynb",
      "provenance": [],
      "toc_visible": true
    },
    "kernelspec": {
      "name": "python3",
      "display_name": "Python 3"
    }
  },
  "cells": [
    {
      "cell_type": "markdown",
      "metadata": {
        "id": "AYHsM6iMevEu",
        "colab_type": "text"
      },
      "source": [
        "# Text Model"
      ]
    },
    {
      "cell_type": "markdown",
      "metadata": {
        "id": "fem0VR33G5LH",
        "colab_type": "text"
      },
      "source": [
        "Importing libraries and train data from google drive"
      ]
    },
    {
      "cell_type": "markdown",
      "metadata": {
        "id": "nw7nhMG-ec-r",
        "colab_type": "text"
      },
      "source": [
        ""
      ]
    },
    {
      "cell_type": "code",
      "metadata": {
        "id": "tGDXmrWmYSkr",
        "colab_type": "code",
        "colab": {
          "base_uri": "https://localhost:8080/",
          "height": 52
        },
        "outputId": "1c3ca2c4-e60e-4514-9a25-4ffc7b4529d1"
      },
      "source": [
        "import pandas as pd\n",
        "import pickle\n",
        "import numpy as np\n",
        "\n",
        "\n",
        "from sklearn.metrics import accuracy_score\n",
        "from sklearn.preprocessing import LabelEncoder\n",
        "from sklearn.model_selection import train_test_split\n",
        "from sklearn.svm import SVC\n",
        "from sklearn.metrics import classification_report,confusion_matrix, plot_confusion_matrix\n",
        "from imblearn.over_sampling import *\n",
        "\n",
        "\n",
        "\"\"\"\n",
        "import math\n",
        "from datetime import datetime\n",
        "\n",
        "import seaborn as sns\n",
        "import matplotlib.pyplot as plt\n",
        "\"\"\"\n",
        "\"\"\"\n",
        "from sklearn.ensemble import RandomForestClassifier\n",
        "from sklearn.naive_bayes import GaussianNB\n",
        "from sklearn.tree import DecisionTreeClassifier\n",
        "from sklearn.neighbors import KNeighborsClassifier\n",
        "from sklearn.neural_network import MLPClassifier\n",
        "\n",
        "\"\"\"\n"
      ],
      "execution_count": 16,
      "outputs": [
        {
          "output_type": "execute_result",
          "data": {
            "application/vnd.google.colaboratory.intrinsic": {
              "type": "string"
            },
            "text/plain": [
              "'\\nfrom sklearn.ensemble import RandomForestClassifier\\nfrom sklearn.naive_bayes import GaussianNB\\nfrom sklearn.tree import DecisionTreeClassifier\\nfrom sklearn.neighbors import KNeighborsClassifier\\nfrom sklearn.neural_network import MLPClassifier\\n\\n'"
            ]
          },
          "metadata": {
            "tags": []
          },
          "execution_count": 16
        }
      ]
    },
    {
      "cell_type": "code",
      "metadata": {
        "id": "KbxEifig4O9v",
        "colab_type": "code",
        "colab": {
          "base_uri": "https://localhost:8080/",
          "height": 34
        },
        "outputId": "9eb185f1-73f4-4eb7-c566-0aa991b9c634"
      },
      "source": [
        "import os\n",
        "os.system(\"wget https://raw.githubusercontent.com/virufy/covid/master/data/labels.csv\")"
      ],
      "execution_count": 22,
      "outputs": [
        {
          "output_type": "execute_result",
          "data": {
            "text/plain": [
              "0"
            ]
          },
          "metadata": {
            "tags": []
          },
          "execution_count": 22
        }
      ]
    },
    {
      "cell_type": "markdown",
      "metadata": {
        "id": "siEXDAFxjmfl",
        "colab_type": "text"
      },
      "source": [
        "## **Main class**"
      ]
    },
    {
      "cell_type": "code",
      "metadata": {
        "id": "L2f4N-5Oe8-K",
        "colab_type": "code",
        "colab": {}
      },
      "source": [
        "class Text():\n",
        "  \"\"\"\n",
        "  This is a class for training , preprcoessing data and testing the text model data using testData provided\n",
        "  \"\"\"\n",
        "\n",
        "  \"\"\"\n",
        "  def __init__(self, trainData, testData):\n",
        "    self.trainData = trainData\n",
        "    self.testData = testData\n",
        "  \"\"\"\n",
        "\n",
        "  def pre_processing(self,in_file):\n",
        "    \"\"\"\n",
        "    Preprocess the input file to the standard format. \n",
        "    Parameter:\n",
        "      inFile: string containing the input file name in .csv format\n",
        "    Returns: target labels value (in 1 or 0) and preprocessed dataframe \n",
        "    \"\"\"\n",
        "    labels_f = in_file\n",
        "    labels_df = pd.read_csv(labels_f)\n",
        "    #dropping the columns unrealted to the text model\n",
        "    labels_df = labels_df.drop(columns=[\"date\", \"cough_filename\"])\n",
        "\n",
        "    #removing the columns which does not contain the information on covid tests\n",
        "    labels_df[\"corona_test\"].fillna(\"None\", inplace = True) \n",
        "    labels_df = labels_df.drop(labels_df[labels_df.corona_test == \"None\"].index)\n",
        "\n",
        "    #replacing the empty values with None\n",
        "    labels_df [\"smoker\"].fillna(\"None\", inplace = True) \n",
        "    labels_df [\"patient_reported_symptoms\"].fillna(\"None\", inplace = True)\n",
        "    labels_df ['age'].fillna(\"None\", inplace = True)\n",
        "    labels_df ['gender'].fillna(\"None\", inplace = True)\n",
        "    labels_df ['medical_history'].fillna(\"None\", inplace = True)\n",
        "    labels_df.dropna()\n",
        "\n",
        "    #CORONA_TEST\n",
        "    newdf= labels_df.replace(to_replace =\"negative\", \n",
        "                    value =0)\n",
        "    newdf = newdf.replace(to_replace =\"positive\", \n",
        "                    value =1)\n",
        "    newdf= newdf.replace(to_replace =\"FALSE\", \n",
        "                    value =0)\n",
        "    newdf = newdf.replace(to_replace =\"TRUE\", \n",
        "                    value =1)\n",
        "\n",
        "    #AGE\n",
        "    newdf['age'] = LabelEncoder().fit_transform(newdf['age'])\n",
        "\n",
        "    #Gender\n",
        "    newdf['gender'] = newdf['gender'].str.lower()\n",
        "    newdf['gender'] = LabelEncoder().fit_transform(newdf['gender'])\n",
        "\n",
        "    #medical_history\n",
        "    newdf[\"medical_history\"] = newdf[\"medical_history\"].str.lower()\n",
        "    med_history = ['None,', 'congestive heart failure,','disease or conditions that make it harder to cough,', \\\n",
        "                        'asthma or chronic lung disease,','pregnancy,', 'diabetes with complications,']\n",
        "        \n",
        "    for mh in med_history:\n",
        "        newdf[mh] = newdf.medical_history.str.contains(mh).astype(int)\n",
        "        newdf[\"medical_history\"] = newdf.medical_history.str.replace(mh+ \",\", \"\")\n",
        "\n",
        "    newdf = newdf.drop(columns = [\"medical_history\"])\n",
        "\n",
        "    #smoker\n",
        "    newdf['smoker'] = LabelEncoder().fit_transform(newdf['smoker'])\n",
        "\n",
        "    #symptoms\n",
        "    newdf['patient_reported_symptoms'] = newdf['patient_reported_symptoms'].str.lower()\n",
        "\n",
        "    symptoms = ['fever, chills, or sweating,', 'shortness of breath,', \\\n",
        "                      'new or worsening cough,','sore throat,', 'body aches,', \\\n",
        "                      'loss of taste,', 'loss of smell,', 'none,']\n",
        "    for ps in symptoms:\n",
        "        newdf[ps] = newdf.patient_reported_symptoms.str.contains(ps).astype(int)\n",
        "        newdf[\"patient_reported_symptoms\"] = newdf.patient_reported_symptoms.str.replace(ps+ \",\", \"\")\n",
        "\n",
        "    newdf = newdf.drop(columns = [\"patient_reported_symptoms\"])\n",
        "\n",
        "    target_labels = newdf[\"corona_test\"] \n",
        "    newdf = newdf.drop(columns = [\"corona_test\"])\n",
        "\n",
        "    newdf.drop(newdf.columns[newdf.columns.str.contains('unnamed',case = False)],axis = 1, inplace = True)\n",
        "\n",
        "    return target_labels, newdf\n",
        "\n",
        "\n",
        "  def prep_data_train(self, train_data):\n",
        "    \"\"\"\n",
        "    Prepare data for text model\n",
        "    Returns: \n",
        "      x_train, y_train is the train data prepared\n",
        "    \"\"\"\n",
        "    target_labels, processed_df = self.pre_processing(train_data)\n",
        "    x_train_orig, x_test, y_train_orig, y_test = train_test_split(processed_df,target_labels, test_size=0.15, shuffle=True)\n",
        "\n",
        "    x_train, y_train = SMOTE(sampling_strategy='minority').fit_resample(x_train_orig, y_train_orig)\n",
        "    return x_train, y_train, x_test, y_test\n",
        "\n",
        "  def train_model(self, train_data):\n",
        "    \"\"\"\n",
        "    Trains the text model using the trainData \n",
        "    Returns:\n",
        "      a string containing saved model of form .sav\n",
        "    \"\"\"\n",
        "    X_train, y_train, x_test, y_test = self.prep_data_train(train_data)\n",
        "    clf = SVC(kernel = \"linear\",C=1, degree = 2, gamma=0.001,random_state=0)\n",
        "    clf.fit(X_train,y_train)\n",
        "\n",
        "    print(\"\\nTraining:\")\n",
        "    print(\"Accuracy: \",end=\"\")\n",
        "    pred = clf.predict(X_train)\n",
        "    accuracy = accuracy_score(y_train, pred)\n",
        "    print(accuracy)\n",
        "    conf_mat = confusion_matrix(y_train, pred)\n",
        "    print(conf_mat)\n",
        "    print(\"\\nTesting:\")\n",
        "    print(\"Accuracy: \",end=\"\")\n",
        "    pred = clf.predict(x_test)\n",
        "    accuracy = accuracy_score(y_test, pred)\n",
        "    print(accuracy)\n",
        "    conf_mat = confusion_matrix(y_test, pred)\n",
        "    print(conf_mat)\n",
        "    print(classification_report(y_test, pred))\n",
        "    print(\"\\n\\n\")\n",
        "\n",
        "    filename = 'textModelSVC.sav'\n",
        "    pickle.dump(clf, open(filename, 'wb'))\n",
        "\n",
        "    return filename\n",
        "  \n",
        "\n",
        "  def prep_data_test(self, test_data):\n",
        "    \"\"\"\n",
        "    Prepare data for text model\n",
        "    Returns: \n",
        "      targetLabels, processedDf is the test data prepared for model\n",
        "    \"\"\"\n",
        "    target_labels, processed_df = self.pre_processing(test_data)\n",
        "    return target_labels, processed_df\n",
        "\n",
        "  def predict(self, test_data, model_file):\n",
        "    \"\"\"\n",
        "    Predict for covid positive or negative using the saved model \n",
        "    Returns: \n",
        "      bool value depecting positive and negative covid results \n",
        "    \"\"\"\n",
        "    y_test, x_test,  = self.prep_data_test(test_data)\n",
        "    loaded_model = pickle.load(open(model_file, 'rb'))\n",
        "    pred = loaded_model.predict(x_test)\n",
        "    print(pred)\n",
        "    accuracy = accuracy_score(y_test,pred)\n",
        "    print(\"Accuracy on test dataset : \", accuracy)\n",
        "    conf_mat = confusion_matrix(y_test,pred)\n",
        "    print(\"Confusion matrix :\\n\", conf_mat)\n",
        "    print(\"Classification report \\n\", classification_report(y_test, pred))\n",
        "    return pred"
      ],
      "execution_count": 18,
      "outputs": []
    },
    {
      "cell_type": "markdown",
      "metadata": {
        "id": "967bW145ukP9",
        "colab_type": "text"
      },
      "source": [
        "## Run the Model"
      ]
    },
    {
      "cell_type": "code",
      "metadata": {
        "id": "JN0WBNiNsywd",
        "colab_type": "code",
        "colab": {
          "base_uri": "https://localhost:8080/",
          "height": 445
        },
        "outputId": "3943de40-6f25-4e53-aadf-b4fc7af2fb51"
      },
      "source": [
        "if __name__ == \"__main__\":\n",
        "\n",
        "  train_data = \"labels.csv\"\n",
        "  # test_data = \"\"\n",
        "\n",
        "  text = Text()\n",
        "\n",
        "  model_file = text.train_model(train_data)\n",
        "\n",
        "  # test = text.predict(test_data,model_file)"
      ],
      "execution_count": 19,
      "outputs": [
        {
          "output_type": "stream",
          "text": [
            "\n",
            "Training:\n",
            "Accuracy: 0.9285714285714286\n",
            "[[7 0]\n",
            " [1 6]]\n",
            "\n",
            "Testing:\n",
            "Accuracy: 0.6666666666666666\n",
            "[[1 1]\n",
            " [0 1]]\n",
            "              precision    recall  f1-score   support\n",
            "\n",
            "           0       1.00      0.50      0.67         2\n",
            "           1       0.50      1.00      0.67         1\n",
            "\n",
            "    accuracy                           0.67         3\n",
            "   macro avg       0.75      0.75      0.67         3\n",
            "weighted avg       0.83      0.67      0.67         3\n",
            "\n",
            "\n",
            "\n",
            "\n"
          ],
          "name": "stdout"
        },
        {
          "output_type": "stream",
          "text": [
            "/usr/local/lib/python3.6/dist-packages/sklearn/utils/deprecation.py:87: FutureWarning: Function safe_indexing is deprecated; safe_indexing is deprecated in version 0.22 and will be removed in version 0.24.\n",
            "  warnings.warn(msg, category=FutureWarning)\n"
          ],
          "name": "stderr"
        }
      ]
    },
    {
      "cell_type": "code",
      "metadata": {
        "id": "FIMiiDQvpv69",
        "colab_type": "code",
        "colab": {}
      },
      "source": [
        ""
      ],
      "execution_count": 19,
      "outputs": []
    }
  ]
}