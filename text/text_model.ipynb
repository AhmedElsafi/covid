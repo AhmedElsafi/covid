{
  "nbformat": 4,
  "nbformat_minor": 0,
  "metadata": {
    "colab": {
      "name": "text_model_public.ipynb",
      "provenance": []
    },
    "kernelspec": {
      "name": "python3",
      "display_name": "Python 3"
    }
  },
  "cells": [
    {
      "cell_type": "markdown",
      "metadata": {
        "id": "AYHsM6iMevEu",
        "colab_type": "text"
      },
      "source": [
        "# Text Model"
      ]
    },
    {
      "cell_type": "markdown",
      "metadata": {
        "id": "fem0VR33G5LH",
        "colab_type": "text"
      },
      "source": [
        "Importing libraries and train data from google drive"
      ]
    },
    {
      "cell_type": "markdown",
      "metadata": {
        "id": "nw7nhMG-ec-r",
        "colab_type": "text"
      },
      "source": [
        ""
      ]
    },
    {
      "cell_type": "code",
      "metadata": {
        "id": "tGDXmrWmYSkr",
        "colab_type": "code",
        "colab": {}
      },
      "source": [
        "import pandas as pd\n",
        "import pickle\n",
        "import numpy as np\n",
        "import urllib\n",
        "\n",
        "from sklearn.metrics import accuracy_score\n",
        "from sklearn.preprocessing import LabelEncoder\n",
        "from sklearn.model_selection import train_test_split\n",
        "from sklearn.svm import SVC\n",
        "from sklearn.metrics import classification_report,confusion_matrix, plot_confusion_matrix\n",
        "from imblearn.over_sampling import *\n"
      ],
      "execution_count": 23,
      "outputs": []
    },
    {
      "cell_type": "code",
      "metadata": {
        "id": "KbxEifig4O9v",
        "colab_type": "code",
        "colab": {
          "base_uri": "https://localhost:8080/",
          "height": 34
        },
        "outputId": "3fca32bd-1d4a-4de1-f4be-b3f965540b36"
      },
      "source": [
        "urllib.request.urlretrieve(\"https://raw.githubusercontent.com/virufy/covid/master/data/labels.csv\", \"labels.csv\")"
      ],
      "execution_count": 24,
      "outputs": [
        {
          "output_type": "execute_result",
          "data": {
            "text/plain": [
              "('labels.csv', <http.client.HTTPMessage at 0x7feb0f182240>)"
            ]
          },
          "metadata": {
            "tags": []
          },
          "execution_count": 24
        }
      ]
    },
    {
      "cell_type": "markdown",
      "metadata": {
        "id": "siEXDAFxjmfl",
        "colab_type": "text"
      },
      "source": [
        "## **Main class**"
      ]
    },
    {
      "cell_type": "code",
      "metadata": {
        "id": "L2f4N-5Oe8-K",
        "colab_type": "code",
        "colab": {}
      },
      "source": [
        "class Text():\n",
        "  \"\"\"\n",
        "  This is a class for training , preprcoessing data and testing the text model data using testData provided\n",
        "  \"\"\"\n",
        "\n",
        "  def __init__(self, model_file = None):\n",
        "    if model_file:\n",
        "      self.model = pickle.load(open(model_file, 'rb'))\n",
        "    \n",
        "\n",
        "\n",
        "  def preprocess(self,in_file):\n",
        "    \"\"\"\n",
        "    Preprocess the input file to the standard format. \n",
        "    Parameter:\n",
        "      in_file: string containing the input file name in .csv format\n",
        "    Returns: target labels value (in 1 or 0) and preprocessed dataframe \n",
        "    \"\"\"\n",
        "    labels_f = in_file\n",
        "    labels_df = pd.read_csv(labels_f)\n",
        "    #dropping the columns unrealted to the text model\n",
        "    labels_df = labels_df.drop(columns=[\"date\", \"cough_filename\"])\n",
        "\n",
        "    #removing the columns which does not contain the information on covid tests\n",
        "    labels_df[\"corona_test\"].fillna(\"None\", inplace = True) \n",
        "    labels_df = labels_df.drop(labels_df[labels_df.corona_test == \"None\"].index)\n",
        "\n",
        "    #replacing the empty values with None\n",
        "    labels_df [\"smoker\"].fillna(\"None\", inplace = True) \n",
        "    labels_df [\"patient_reported_symptoms\"].fillna(\"None\", inplace = True)\n",
        "    labels_df ['age'].fillna(\"None\", inplace = True)\n",
        "    labels_df ['gender'].fillna(\"None\", inplace = True)\n",
        "    labels_df ['medical_history'].fillna(\"None\", inplace = True)\n",
        "    labels_df.dropna()\n",
        "\n",
        "    #CORONA_TEST\n",
        "    newdf= labels_df.replace(to_replace =\"negative\", \n",
        "                    value =0)\n",
        "    newdf = newdf.replace(to_replace =\"positive\", \n",
        "                    value =1)\n",
        "    newdf= newdf.replace(to_replace =\"FALSE\", \n",
        "                    value =0)\n",
        "    newdf = newdf.replace(to_replace =\"TRUE\", \n",
        "                    value =1)\n",
        "\n",
        "    #AGE\n",
        "    newdf['age'] = LabelEncoder().fit_transform(newdf['age'])\n",
        "\n",
        "    #Gender\n",
        "    newdf['gender'] = newdf['gender'].str.lower()\n",
        "    newdf['gender'] = LabelEncoder().fit_transform(newdf['gender'])\n",
        "\n",
        "    #medical_history\n",
        "    newdf[\"medical_history\"] = newdf[\"medical_history\"].str.lower()\n",
        "    med_history = ['None,', 'congestive heart failure,','disease or conditions that make it harder to cough,', \\\n",
        "                        'asthma or chronic lung disease,','pregnancy,', 'diabetes with complications,']\n",
        "        \n",
        "    for mh in med_history:\n",
        "        newdf[mh] = newdf.medical_history.str.contains(mh).astype(int)\n",
        "        newdf[\"medical_history\"] = newdf.medical_history.str.replace(mh+ \",\", \"\")\n",
        "\n",
        "    newdf = newdf.drop(columns = [\"medical_history\"])\n",
        "\n",
        "    #smoker\n",
        "    newdf['smoker'] = LabelEncoder().fit_transform(newdf['smoker'])\n",
        "\n",
        "    #symptoms\n",
        "    newdf['patient_reported_symptoms'] = newdf['patient_reported_symptoms'].str.lower()\n",
        "\n",
        "    symptoms = ['fever, chills, or sweating,', 'shortness of breath,', \\\n",
        "                      'new or worsening cough,','sore throat,', 'body aches,', \\\n",
        "                      'loss of taste,', 'loss of smell,', 'none,']\n",
        "    for ps in symptoms:\n",
        "        newdf[ps] = newdf.patient_reported_symptoms.str.contains(ps).astype(int)\n",
        "        newdf[\"patient_reported_symptoms\"] = newdf.patient_reported_symptoms.str.replace(ps+ \",\", \"\")\n",
        "\n",
        "    newdf = newdf.drop(columns = [\"patient_reported_symptoms\"])\n",
        "\n",
        "    target_labels = newdf[\"corona_test\"] \n",
        "    newdf = newdf.drop(columns = [\"corona_test\"])\n",
        "\n",
        "    newdf.drop(newdf.columns[newdf.columns.str.contains('unnamed',case = False)],axis = 1, inplace = True)\n",
        "\n",
        "    return target_labels, newdf\n",
        "\n",
        "\n",
        "  def prep_data_train(self, train_data):\n",
        "    \"\"\"\n",
        "    Prepare data for text model\n",
        "    Returns: \n",
        "      x_train, y_train is the train data prepared\n",
        "    \"\"\"\n",
        "    target_labels, processed_df = self.preprocess(train_data)\n",
        "    x_train_orig, x_test, y_train_orig, y_test = train_test_split(processed_df,target_labels, test_size=0.15, shuffle=True)\n",
        "\n",
        "    x_train, y_train = SMOTE(sampling_strategy='minority').fit_resample(x_train_orig, y_train_orig)\n",
        "    return x_train, y_train, x_test, y_test\n",
        "\n",
        "  def train(self, train_data, save_path='model.sav'):\n",
        "\n",
        "    \"\"\"\n",
        "    Trains the text model using the trainData \n",
        "    Returns:\n",
        "      a string containing saved model of form .sav\n",
        "    \"\"\"\n",
        "    X_train, y_train, x_test, y_test = self.prep_data_train(train_data)\n",
        "    clf = SVC(kernel = \"linear\",C=1, degree = 2, gamma=0.001,random_state=0)\n",
        "    clf.fit(X_train,y_train)\n",
        "\n",
        "    print(\"\\nTraining:\")\n",
        "    print(\"Accuracy: \",end=\"\")\n",
        "    pred = clf.predict(X_train)\n",
        "    accuracy = accuracy_score(y_train, pred)\n",
        "    print(accuracy)\n",
        "    conf_mat = confusion_matrix(y_train, pred)\n",
        "    print(conf_mat)\n",
        "    print(\"\\nTesting:\")\n",
        "    print(\"Accuracy: \",end=\"\")\n",
        "    pred = clf.predict(x_test)\n",
        "    accuracy = accuracy_score(y_test, pred)\n",
        "    print(accuracy)\n",
        "    conf_mat = confusion_matrix(y_test, pred)\n",
        "    print(conf_mat)\n",
        "    print(classification_report(y_test, pred))\n",
        "    print(\"\\n\\n\")\n",
        "\n",
        "    self.model = clf\n",
        "    pickle.dump(clf, open(save_path, 'wb'))\n",
        "  \n",
        "\n",
        "  def prep_data_test(self, test_data):\n",
        "    \"\"\"\n",
        "    Prepare data for text model\n",
        "    Returns: \n",
        "      targetLabels, processedDf is the test data prepared for model\n",
        "    \"\"\"\n",
        "    target_labels, processed_df = self.preprocess(test_data)\n",
        "    return target_labels, processed_df\n",
        "\n",
        "  def predict(self, test_data):\n",
        "    \"\"\"\n",
        "    Predict for covid positive or negative using the saved model \n",
        "    Returns: \n",
        "      bool value depecting positive and negative covid results \n",
        "    \"\"\"\n",
        "    \n",
        "    y_test, x_test,  = self.prep_data_test(test_data)\n",
        "\n",
        "    pred = self.model.predict(x_test)\n",
        "    print(pred)\n",
        "    accuracy = accuracy_score(y_test,pred)\n",
        "    print(\"Accuracy on test dataset : \", accuracy)\n",
        "    conf_mat = confusion_matrix(y_test,pred)\n",
        "    print(\"Confusion matrix :\\n\", conf_mat)\n",
        "    print(\"Classification report \\n\", classification_report(y_test, pred))\n",
        "    \n",
        "    return pred"
      ],
      "execution_count": 25,
      "outputs": []
    },
    {
      "cell_type": "markdown",
      "metadata": {
        "id": "967bW145ukP9",
        "colab_type": "text"
      },
      "source": [
        "## Run the Model"
      ]
    },
    {
      "cell_type": "code",
      "metadata": {
        "id": "JN0WBNiNsywd",
        "colab_type": "code",
        "colab": {
          "base_uri": "https://localhost:8080/",
          "height": 479
        },
        "outputId": "b0b089c5-2239-4253-c400-dd0c57e0131f"
      },
      "source": [
        "if __name__ == \"__main__\":\n",
        "  train_data = \"labels.csv\"\n",
        "  text = Text()\n",
        "  model_file = text.train(train_data)\n",
        "  # test = text.predict(test_data)"
      ],
      "execution_count": 26,
      "outputs": [
        {
          "output_type": "stream",
          "text": [
            "\n",
            "Training:\n",
            "Accuracy: 0.8571428571428571\n",
            "[[7 0]\n",
            " [2 5]]\n",
            "\n",
            "Testing:\n",
            "Accuracy: 0.3333333333333333\n",
            "[[0 2]\n",
            " [0 1]]\n",
            "              precision    recall  f1-score   support\n",
            "\n",
            "           0       0.00      0.00      0.00         2\n",
            "           1       0.33      1.00      0.50         1\n",
            "\n",
            "    accuracy                           0.33         3\n",
            "   macro avg       0.17      0.50      0.25         3\n",
            "weighted avg       0.11      0.33      0.17         3\n",
            "\n",
            "\n",
            "\n",
            "\n"
          ],
          "name": "stdout"
        },
        {
          "output_type": "stream",
          "text": [
            "/usr/local/lib/python3.6/dist-packages/sklearn/utils/deprecation.py:87: FutureWarning: Function safe_indexing is deprecated; safe_indexing is deprecated in version 0.22 and will be removed in version 0.24.\n",
            "  warnings.warn(msg, category=FutureWarning)\n",
            "/usr/local/lib/python3.6/dist-packages/sklearn/metrics/_classification.py:1272: UndefinedMetricWarning: Precision and F-score are ill-defined and being set to 0.0 in labels with no predicted samples. Use `zero_division` parameter to control this behavior.\n",
            "  _warn_prf(average, modifier, msg_start, len(result))\n"
          ],
          "name": "stderr"
        }
      ]
    },
    {
      "cell_type": "code",
      "metadata": {
        "id": "RhFwtFZ0GZii",
        "colab_type": "code",
        "colab": {}
      },
      "source": [
        ""
      ],
      "execution_count": 26,
      "outputs": []
    }
  ]
}